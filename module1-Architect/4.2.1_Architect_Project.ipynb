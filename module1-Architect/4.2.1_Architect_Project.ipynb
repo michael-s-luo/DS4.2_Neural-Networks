{
  "nbformat": 4,
  "nbformat_minor": 0,
  "metadata": {
    "accelerator": "GPU",
    "colab": {
      "provenance": []
    },
    "kernelspec": {
      "display_name": "Python 3",
      "language": "python",
      "name": "python3"
    },
    "language_info": {
      "codemirror_mode": {
        "name": "ipython",
        "version": 3
      },
      "file_extension": ".py",
      "mimetype": "text/x-python",
      "name": "python",
      "nbconvert_exporter": "python",
      "pygments_lexer": "ipython3",
      "version": "3.8.5"
    },
    "gpuClass": "standard"
  },
  "cells": [
    {
      "cell_type": "markdown",
      "metadata": {
        "id": "ObyHCH8HvHSf"
      },
      "source": [
        "# BloomTech Data Science\n",
        "\n",
        "## Unit 4.2.1 Project\n",
        "\n",
        "Use TensorFlow Keras and a sample of the [Quickdraw dataset](https://github.com/googlecreativelab/quickdraw-dataset) to build a sketch classification model. The dataset has been sampled to only 10 classes and 10000 observations per class. \n",
        "\n",
        "### Objective\n",
        "\n",
        "- Build a baseline classification model then, run a few experiments with different optimizers and learning rates. \n",
        "- Don't forget to [**switch to GPU if you're running your notebook on Colab!**](https://colab.research.google.com/notebooks/gpu.ipynb)"
      ]
    },
    {
      "cell_type": "markdown",
      "metadata": {
        "id": "s-Tc3ovEyQ9b"
      },
      "source": [
        "## Load Your Data"
      ]
    },
    {
      "cell_type": "code",
      "source": [
        "print(tf.__version__)"
      ],
      "metadata": {
        "colab": {
          "base_uri": "https://localhost:8080/"
        },
        "id": "LGMXAgl0WatF",
        "outputId": "34a882f1-91e8-41b6-9d06-5f44d5047b2d"
      },
      "execution_count": 6,
      "outputs": [
        {
          "output_type": "stream",
          "name": "stdout",
          "text": [
            "2.11.0\n"
          ]
        }
      ]
    },
    {
      "cell_type": "code",
      "source": [
        "tf.keras.models"
      ],
      "metadata": {
        "colab": {
          "base_uri": "https://localhost:8080/"
        },
        "id": "qy0zo1rCXETp",
        "outputId": "1334cae2-0c22-4b60-99b2-9727b9ed8240"
      },
      "execution_count": 8,
      "outputs": [
        {
          "output_type": "execute_result",
          "data": {
            "text/plain": [
              "<module 'tensorflow.keras.models' from '/usr/local/lib/python3.8/dist-packages/keras/api/_v2/keras/models/__init__.py'>"
            ]
          },
          "metadata": {},
          "execution_count": 8
        }
      ]
    },
    {
      "cell_type": "code",
      "metadata": {
        "id": "CkU0pAYCvU8o"
      },
      "source": [
        "# imports in first cell \n",
        "import seaborn as sns\n",
        "import pandas as pd\n",
        "import numpy as np\n",
        "import tensorflow as tf \n",
        "import matplotlib.pyplot as plt\n",
        "from sklearn.utils import shuffle\n",
        "\n",
        "# use Sequential to build out your model\n",
        "from tensorflow.keras.models import Sequential\n",
        "\n",
        "# Dense layer is used for Fully Connected Forward Feeding networks\n",
        "from tensorflow.keras.layers import Dense"
      ],
      "execution_count": 9,
      "outputs": []
    },
    {
      "cell_type": "markdown",
      "metadata": {
        "id": "UT2HFvSgDlFQ"
      },
      "source": [
        "Note that the 28x28 quickdraw images have already been \"flattened\" into 784: dimensional vectors"
      ]
    },
    {
      "cell_type": "code",
      "metadata": {
        "id": "S1XYJRQKLj1B",
        "colab": {
          "base_uri": "https://localhost:8080/"
        },
        "outputId": "e277b893-9aef-4700-db00-43d7ebf15233"
      },
      "source": [
        "# load the quickdraw data set\n",
        "# !git clone https://github.com/michael-s-luo/Neural-Networks-DS4.2\n",
        "# data = np.load('/content/Neural-Networks-DS4.2/data/quickdraw10.npz')\n",
        "\n",
        "X = data['arr_0']\n",
        "y = data['arr_1']\n",
        "\n",
        "print(X.shape)\n",
        "print(y.shape)"
      ],
      "execution_count": 45,
      "outputs": [
        {
          "output_type": "stream",
          "name": "stdout",
          "text": [
            "(100000, 784)\n",
            "(100000,)\n"
          ]
        }
      ]
    },
    {
      "cell_type": "markdown",
      "metadata": {
        "id": "mvMjoB_yDZTL"
      },
      "source": [
        "These are the names of the 10 image classes"
      ]
    },
    {
      "cell_type": "code",
      "metadata": {
        "id": "c8qsDqdqvHDd"
      },
      "source": [
        "class_names = ['apple',\n",
        "             'anvil',\n",
        "             'airplane',\n",
        "             'banana',\n",
        "             'The Eiffel Tower',\n",
        "             'The Mona Lisa',\n",
        "             'The Great Wall of China',\n",
        "             'alarm clock',\n",
        "             'ant',\n",
        "             'asparagus']"
      ],
      "execution_count": 46,
      "outputs": []
    },
    {
      "cell_type": "markdown",
      "metadata": {
        "id": "VxuY8RYXD9S4"
      },
      "source": [
        "We can explore the data a bit by reshaping the vectors back to images and displaying them with their labels. <br>\n",
        "Turns out the data has 10 blocks of 10,000 images of each of the above labels, in order. <br>\n",
        "So the code below displays the first image of each class."
      ]
    },
    {
      "cell_type": "code",
      "metadata": {
        "id": "Owbm1EbxvA5A",
        "colab": {
          "base_uri": "https://localhost:8080/",
          "height": 293
        },
        "outputId": "053644c0-d96c-4cde-b078-66ea3c77662c"
      },
      "source": [
        "# these are your 10 unique images\n",
        "plt.figure(figsize=(10,5))\n",
        "start = 0\n",
        "\n",
        "for num, name in enumerate(class_names):\n",
        "    plt.subplot(2,5, num+1)\n",
        "    plt.xticks([])\n",
        "    plt.yticks([])\n",
        "    plt.grid(False)\n",
        "    plt.imshow(X[start].reshape(28,28),cmap=plt.cm.binary)\n",
        "    plt.xlabel(name)\n",
        "    start += 10000\n",
        "plt.show()"
      ],
      "execution_count": 47,
      "outputs": [
        {
          "output_type": "display_data",
          "data": {
            "text/plain": [
              "<Figure size 720x360 with 10 Axes>"
            ],
            "image/png": "[encoded data removed]"
          },
          "metadata": {}
        }
      ]
    },
    {
      "cell_type": "markdown",
      "metadata": {
        "id": "Av6i6t5QLj1D"
      },
      "source": [
        "Say hello to the Quickdraw dataset!\n",
        "\n",
        "You'll be using this dataset a lot this week as an alternative to the MNIST digits data set, which we'll use in the guided projects. The nice thing about this dataset is that it's simple, which allows us to focus on our model, its various components, and gradually come to a better understanding of how to build neural networks without worrying about cleaning and prepping our image data much."
      ]
    },
    {
      "cell_type": "code",
      "metadata": {
        "id": "c97_M1WNvTNY"
      },
      "source": [
        "# always a good idea to shuffle your dataset!\n",
        "X, y = shuffle(X, y)"
      ],
      "execution_count": 48,
      "outputs": []
    },
    {
      "cell_type": "markdown",
      "metadata": {
        "id": "jb70CbLVyK65"
      },
      "source": [
        "-----\n",
        "\n",
        "## Build Your Baseline Model\n",
        "\n",
        "Make sure that you\n",
        "\n",
        "- **Determine** the dimensionality of your input data by investigating **X**\n",
        "- **Normalize** your input data to values between 0 and 1 \n",
        "- **Determine** the number of neurons in your output layer by investigating **Y**\n",
        "- **Select** `sparse_categorical_crossentropy` as your loss function.\n",
        "- **Select** `sgd` as your optimizer.\n",
        "- **Add** 3 hidden layers to your model with the following number of nodes\n",
        "    - h1 has 500 nodes\n",
        "    - h2 has 250 nodes\n",
        "    - h3 has 100 nodes\n",
        "    \n",
        "- **Set** epochs to 20 \n",
        "- **Use** the `validation_split` keyword in `model.fit()` to automatically create a training / validation dataset from within the model. Specify a percentage, such as `validation_split = 0.2`\n",
        " \n",
        "Not sure what the various parameters are for or what values to assign to them?\n",
        "\n",
        "- Reference the guided project notebook for Sprint 2 Module 1\n",
        "- Reference the [**Keras documentation**](https://keras.io/api/)\n",
        "- Google other examples\n",
        "- Discuss your results with classmates "
      ]
    },
    {
      "cell_type": "code",
      "metadata": {
        "deletable": false,
        "nbgrader": {
          "cell_type": "code",
          "checksum": "ef20dd34df6998e0a50e394d59d58659",
          "grade": false,
          "grade_id": "cell-907b9348d7a2ebb3",
          "locked": false,
          "schema_version": 3,
          "solution": true,
          "task": false
        },
        "id": "f133nwpOLj1G"
      },
      "source": [
        "# get dim of image row vectors and save to input_dim\n",
        "input_dim = X.shape[1]\n",
        "\n",
        "# get number of unique labels and save to n_output_labels\n",
        "n_output_labels = len(set(y))\n",
        "\n",
        "# normalize image data to values between 0 and 1 (by dividing by max pixel value)\n",
        "max_pixel_value = 255\n",
        "X_scaled = X / 255\n"
      ],
      "execution_count": 49,
      "outputs": []
    },
    {
      "cell_type": "code",
      "metadata": {
        "id": "vOufsWS3Lj1G"
      },
      "source": [
        "# a check on your data prep \n",
        "assert  X_scaled.max(), \"Max pixel value should be 1.0, make sure you normalize your data\""
      ],
      "execution_count": 50,
      "outputs": []
    },
    {
      "cell_type": "code",
      "metadata": {
        "deletable": false,
        "id": "zHWblzsMyNkU",
        "nbgrader": {
          "cell_type": "code",
          "checksum": "f0ba174cb72f491f73c3aa7df8ae7ac4",
          "grade": false,
          "grade_id": "cell-b7c96fc46d86725f",
          "locked": false,
          "schema_version": 3,
          "solution": true,
          "task": false
        }
      },
      "source": [
        "# instantiate a sequential object and call it model, then add the layers to your model\n",
        "\n",
        "# add a compile layer but don't fit your model yet \n",
        "\n",
        "# YOUR CODE HERE\n",
        "model = Sequential([\n",
        "    Dense(500, activation='relu', input_dim=input_dim),\n",
        "    Dense(250, activation='relu'),\n",
        "    Dense(100, activation='relu'),\n",
        "    Dense(10, activation='sigmoid')\n",
        "])\n",
        "\n",
        "model.compile(optimizer='sgd', loss='sparse_categorical_crossentropy', metrics=['accuracy'])\n"
      ],
      "execution_count": 51,
      "outputs": []
    },
    {
      "cell_type": "code",
      "metadata": {
        "id": "ojLnGDklLj1H"
      },
      "source": [
        "# a check on your model architecture \n",
        "n_layers = len(model.get_config()[\"layers\"])\n",
        "assert n_layers == 5, \"You should have 5 layers: input, h1, h2, h3, and output\""
      ],
      "execution_count": 52,
      "outputs": []
    },
    {
      "cell_type": "code",
      "metadata": {
        "id": "wMK2_DtJLj1I",
        "colab": {
          "base_uri": "https://localhost:8080/"
        },
        "outputId": "c2de20d1-11e2-4a6d-9489-345f809defff"
      },
      "source": [
        "# check out your model summary \n",
        "model.summary()"
      ],
      "execution_count": 53,
      "outputs": [
        {
          "output_type": "stream",
          "name": "stdout",
          "text": [
            "Model: \"sequential_2\"\n",
            "_________________________________________________________________\n",
            " Layer (type)                Output Shape              Param #   \n",
            "=================================================================\n",
            " dense_8 (Dense)             (None, 500)               392500    \n",
            "                                                                 \n",
            " dense_9 (Dense)             (None, 250)               125250    \n",
            "                                                                 \n",
            " dense_10 (Dense)            (None, 100)               25100     \n",
            "                                                                 \n",
            " dense_11 (Dense)            (None, 10)                1010      \n",
            "                                                                 \n",
            "=================================================================\n",
            "Total params: 543,860\n",
            "Trainable params: 543,860\n",
            "Non-trainable params: 0\n",
            "_________________________________________________________________\n"
          ]
        }
      ]
    },
    {
      "cell_type": "code",
      "metadata": {
        "id": "DXTSbEiyLj1I",
        "colab": {
          "base_uri": "https://localhost:8080/"
        },
        "outputId": "9f92ca0a-0e05-4df6-efc5-538544553956"
      },
      "source": [
        "# fit your model and save training results to history \n",
        "epochs=20\n",
        "\n",
        "history = model.fit(X_scaled, y, \n",
        "                    epochs=epochs, \n",
        "                    # a held-out validation set will be generated within the model\n",
        "                    validation_split=0.2\n",
        "                   )"
      ],
      "execution_count": 54,
      "outputs": [
        {
          "output_type": "stream",
          "name": "stdout",
          "text": [
            "Epoch 1/20\n",
            "2500/2500 [==============================] - 9s 3ms/step - loss: 0.9782 - accuracy: 0.7074 - val_loss: 0.7496 - val_accuracy: 0.7838\n",
            "Epoch 2/20\n",
            "2500/2500 [==============================] - 9s 4ms/step - loss: 0.6666 - accuracy: 0.8050 - val_loss: 0.6333 - val_accuracy: 0.8129\n",
            "Epoch 3/20\n",
            "2500/2500 [==============================] - 10s 4ms/step - loss: 0.5683 - accuracy: 0.8330 - val_loss: 0.5681 - val_accuracy: 0.8319\n",
            "Epoch 4/20\n",
            "2500/2500 [==============================] - 8s 3ms/step - loss: 0.5057 - accuracy: 0.8509 - val_loss: 0.5228 - val_accuracy: 0.8440\n",
            "Epoch 5/20\n",
            "2500/2500 [==============================] - 13s 5ms/step - loss: 0.4580 - accuracy: 0.8654 - val_loss: 0.4876 - val_accuracy: 0.8557\n",
            "Epoch 6/20\n",
            "2500/2500 [==============================] - 10s 4ms/step - loss: 0.4207 - accuracy: 0.8765 - val_loss: 0.4708 - val_accuracy: 0.8605\n",
            "Epoch 7/20\n",
            "2500/2500 [==============================] - 12s 5ms/step - loss: 0.3880 - accuracy: 0.8855 - val_loss: 0.4602 - val_accuracy: 0.8654\n",
            "Epoch 8/20\n",
            "2500/2500 [==============================] - 9s 4ms/step - loss: 0.3592 - accuracy: 0.8946 - val_loss: 0.4524 - val_accuracy: 0.8651\n",
            "Epoch 9/20\n",
            "2500/2500 [==============================] - 13s 5ms/step - loss: 0.3341 - accuracy: 0.9022 - val_loss: 0.4478 - val_accuracy: 0.8687\n",
            "Epoch 10/20\n",
            "2500/2500 [==============================] - 11s 4ms/step - loss: 0.3101 - accuracy: 0.9087 - val_loss: 0.4360 - val_accuracy: 0.8730\n",
            "Epoch 11/20\n",
            "2500/2500 [==============================] - 8s 3ms/step - loss: 0.2884 - accuracy: 0.9151 - val_loss: 0.4321 - val_accuracy: 0.8755\n",
            "Epoch 12/20\n",
            "2500/2500 [==============================] - 9s 4ms/step - loss: 0.2674 - accuracy: 0.9216 - val_loss: 0.4377 - val_accuracy: 0.8744\n",
            "Epoch 13/20\n",
            "2500/2500 [==============================] - 9s 4ms/step - loss: 0.2472 - accuracy: 0.9290 - val_loss: 0.4378 - val_accuracy: 0.8748\n",
            "Epoch 14/20\n",
            "2500/2500 [==============================] - 9s 4ms/step - loss: 0.2279 - accuracy: 0.9341 - val_loss: 0.4409 - val_accuracy: 0.8779\n",
            "Epoch 15/20\n",
            "2500/2500 [==============================] - 8s 3ms/step - loss: 0.2101 - accuracy: 0.9394 - val_loss: 0.4493 - val_accuracy: 0.8737\n",
            "Epoch 16/20\n",
            "2500/2500 [==============================] - 9s 4ms/step - loss: 0.1934 - accuracy: 0.9443 - val_loss: 0.4610 - val_accuracy: 0.8742\n",
            "Epoch 17/20\n",
            "2500/2500 [==============================] - 9s 4ms/step - loss: 0.1771 - accuracy: 0.9494 - val_loss: 0.4730 - val_accuracy: 0.8732\n",
            "Epoch 18/20\n",
            "2500/2500 [==============================] - 8s 3ms/step - loss: 0.1617 - accuracy: 0.9546 - val_loss: 0.4853 - val_accuracy: 0.8734\n",
            "Epoch 19/20\n",
            "2500/2500 [==============================] - 9s 4ms/step - loss: 0.1484 - accuracy: 0.9579 - val_loss: 0.4896 - val_accuracy: 0.8737\n",
            "Epoch 20/20\n",
            "2500/2500 [==============================] - 11s 4ms/step - loss: 0.1344 - accuracy: 0.9630 - val_loss: 0.5009 - val_accuracy: 0.8752\n"
          ]
        }
      ]
    },
    {
      "cell_type": "markdown",
      "metadata": {
        "id": "b0QJURWh-9uv"
      },
      "source": [
        "----\n",
        "### Visualize the Results\n",
        "\n",
        "- Move results in `history` to a dataframe. \n",
        "- Use [**Seaborn**](https://seaborn.pydata.org/generated/seaborn.lineplot.html) to create line plots for both loss and accuracy by epoch. \n",
        "- Analyze the results and write a couple of observations. \n",
        "\n",
        "At what point should we have stopped training the model and why? "
      ]
    },
    {
      "cell_type": "code",
      "metadata": {
        "deletable": false,
        "id": "ijAlzfYKAFaY",
        "nbgrader": {
          "cell_type": "code",
          "checksum": "6ef8cde40701c2ef57cf853b19455125",
          "grade": false,
          "grade_id": "cell-16e647cfc3291a01",
          "locked": false,
          "schema_version": 3,
          "solution": true,
          "task": false
        },
        "colab": {
          "base_uri": "https://localhost:8080/",
          "height": 677
        },
        "outputId": "33d3b709-9893-4500-8b44-bd516192ab77"
      },
      "source": [
        "df_history = pd.DataFrame(data=history.history)\n",
        "df_history"
      ],
      "execution_count": 61,
      "outputs": [
        {
          "output_type": "execute_result",
          "data": {
            "text/plain": [
              "        loss  accuracy  val_loss  val_accuracy\n",
              "0   0.978155  0.707350  0.749624       0.78380\n",
              "1   0.666576  0.804987  0.633255       0.81290\n",
              "2   0.568337  0.832987  0.568053       0.83190\n",
              "3   0.505673  0.850913  0.522759       0.84400\n",
              "4   0.457998  0.865412  0.487587       0.85565\n",
              "5   0.420688  0.876538  0.470760       0.86050\n",
              "6   0.387998  0.885525  0.460220       0.86540\n",
              "7   0.359195  0.894638  0.452399       0.86510\n",
              "8   0.334110  0.902225  0.447794       0.86870\n",
              "9   0.310132  0.908725  0.435962       0.87300\n",
              "10  0.288422  0.915150  0.432125       0.87545\n",
              "11  0.267363  0.921650  0.437666       0.87435\n",
              "12  0.247193  0.928950  0.437784       0.87480\n",
              "13  0.227904  0.934088  0.440929       0.87790\n",
              "14  0.210098  0.939425  0.449252       0.87375\n",
              "15  0.193351  0.944337  0.461049       0.87420\n",
              "16  0.177077  0.949425  0.473004       0.87320\n",
              "17  0.161672  0.954638  0.485301       0.87345\n",
              "18  0.148410  0.957937  0.489612       0.87370\n",
              "19  0.134415  0.962987  0.500905       0.87515"
            ],
            "text/html": [
              "\n",
              "  <div id=\"df-934dc8ef-86c5-485c-95cf-0d9388e9baa4\">\n",
              "    <div class=\"colab-df-container\">\n",
              "      <div>\n",
              "<style scoped>\n",
              "    .dataframe tbody tr th:only-of-type {\n",
              "        vertical-align: middle;\n",
              "    }\n",
              "\n",
              "    .dataframe tbody tr th {\n",
              "        vertical-align: top;\n",
              "    }\n",
              "\n",
              "    .dataframe thead th {\n",
              "        text-align: right;\n",
              "    }\n",
              "</style>\n",
              "<table border=\"1\" class=\"dataframe\">\n",
              "  <thead>\n",
              "    <tr style=\"text-align: right;\">\n",
              "      <th></th>\n",
              "      <th>loss</th>\n",
              "      <th>accuracy</th>\n",
              "      <th>val_loss</th>\n",
              "      <th>val_accuracy</th>\n",
              "    </tr>\n",
              "  </thead>\n",
              "  <tbody>\n",
              "    <tr>\n",
              "      <th>0</th>\n",
              "      <td>0.978155</td>\n",
              "      <td>0.707350</td>\n",
              "      <td>0.749624</td>\n",
              "      <td>0.78380</td>\n",
              "    </tr>\n",
              "    <tr>\n",
              "      <th>1</th>\n",
              "      <td>0.666576</td>\n",
              "      <td>0.804987</td>\n",
              "      <td>0.633255</td>\n",
              "      <td>0.81290</td>\n",
              "    </tr>\n",
              "    <tr>\n",
              "      <th>2</th>\n",
              "      <td>0.568337</td>\n",
              "      <td>0.832987</td>\n",
              "      <td>0.568053</td>\n",
              "      <td>0.83190</td>\n",
              "    </tr>\n",
              "    <tr>\n",
              "      <th>3</th>\n",
              "      <td>0.505673</td>\n",
              "      <td>0.850913</td>\n",
              "      <td>0.522759</td>\n",
              "      <td>0.84400</td>\n",
              "    </tr>\n",
              "    <tr>\n",
              "      <th>4</th>\n",
              "      <td>0.457998</td>\n",
              "      <td>0.865412</td>\n",
              "      <td>0.487587</td>\n",
              "      <td>0.85565</td>\n",
              "    </tr>\n",
              "    <tr>\n",
              "      <th>5</th>\n",
              "      <td>0.420688</td>\n",
              "      <td>0.876538</td>\n",
              "      <td>0.470760</td>\n",
              "      <td>0.86050</td>\n",
              "    </tr>\n",
              "    <tr>\n",
              "      <th>6</th>\n",
              "      <td>0.387998</td>\n",
              "      <td>0.885525</td>\n",
              "      <td>0.460220</td>\n",
              "      <td>0.86540</td>\n",
              "    </tr>\n",
              "    <tr>\n",
              "      <th>7</th>\n",
              "      <td>0.359195</td>\n",
              "      <td>0.894638</td>\n",
              "      <td>0.452399</td>\n",
              "      <td>0.86510</td>\n",
              "    </tr>\n",
              "    <tr>\n",
              "      <th>8</th>\n",
              "      <td>0.334110</td>\n",
              "      <td>0.902225</td>\n",
              "      <td>0.447794</td>\n",
              "      <td>0.86870</td>\n",
              "    </tr>\n",
              "    <tr>\n",
              "      <th>9</th>\n",
              "      <td>0.310132</td>\n",
              "      <td>0.908725</td>\n",
              "      <td>0.435962</td>\n",
              "      <td>0.87300</td>\n",
              "    </tr>\n",
              "    <tr>\n",
              "      <th>10</th>\n",
              "      <td>0.288422</td>\n",
              "      <td>0.915150</td>\n",
              "      <td>0.432125</td>\n",
              "      <td>0.87545</td>\n",
              "    </tr>\n",
              "    <tr>\n",
              "      <th>11</th>\n",
              "      <td>0.267363</td>\n",
              "      <td>0.921650</td>\n",
              "      <td>0.437666</td>\n",
              "      <td>0.87435</td>\n",
              "    </tr>\n",
              "    <tr>\n",
              "      <th>12</th>\n",
              "      <td>0.247193</td>\n",
              "      <td>0.928950</td>\n",
              "      <td>0.437784</td>\n",
              "      <td>0.87480</td>\n",
              "    </tr>\n",
              "    <tr>\n",
              "      <th>13</th>\n",
              "      <td>0.227904</td>\n",
              "      <td>0.934088</td>\n",
              "      <td>0.440929</td>\n",
              "      <td>0.87790</td>\n",
              "    </tr>\n",
              "    <tr>\n",
              "      <th>14</th>\n",
              "      <td>0.210098</td>\n",
              "      <td>0.939425</td>\n",
              "      <td>0.449252</td>\n",
              "      <td>0.87375</td>\n",
              "    </tr>\n",
              "    <tr>\n",
              "      <th>15</th>\n",
              "      <td>0.193351</td>\n",
              "      <td>0.944337</td>\n",
              "      <td>0.461049</td>\n",
              "      <td>0.87420</td>\n",
              "    </tr>\n",
              "    <tr>\n",
              "      <th>16</th>\n",
              "      <td>0.177077</td>\n",
              "      <td>0.949425</td>\n",
              "      <td>0.473004</td>\n",
              "      <td>0.87320</td>\n",
              "    </tr>\n",
              "    <tr>\n",
              "      <th>17</th>\n",
              "      <td>0.161672</td>\n",
              "      <td>0.954638</td>\n",
              "      <td>0.485301</td>\n",
              "      <td>0.87345</td>\n",
              "    </tr>\n",
              "    <tr>\n",
              "      <th>18</th>\n",
              "      <td>0.148410</td>\n",
              "      <td>0.957937</td>\n",
              "      <td>0.489612</td>\n",
              "      <td>0.87370</td>\n",
              "    </tr>\n",
              "    <tr>\n",
              "      <th>19</th>\n",
              "      <td>0.134415</td>\n",
              "      <td>0.962987</td>\n",
              "      <td>0.500905</td>\n",
              "      <td>0.87515</td>\n",
              "    </tr>\n",
              "  </tbody>\n",
              "</table>\n",
              "</div>\n",
              "      <button class=\"colab-df-convert\" onclick=\"convertToInteractive('df-934dc8ef-86c5-485c-95cf-0d9388e9baa4')\"\n",
              "              title=\"Convert this dataframe to an interactive table.\"\n",
              "              style=\"display:none;\">\n",
              "        \n",
              "  <svg xmlns=\"http://www.w3.org/2000/svg\" height=\"24px\"viewBox=\"0 0 24 24\"\n",
              "       width=\"24px\">\n",
              "    <path d=\"M0 0h24v24H0V0z\" fill=\"none\"/>\n",
              "    <path d=\"M18.56 5.44l.94 2.06.94-2.06 2.06-.94-2.06-.94-.94-2.06-.94 2.06-2.06.94zm-11 1L8.5 8.5l.94-2.06 2.06-.94-2.06-.94L8.5 2.5l-.94 2.06-2.06.94zm10 10l.94 2.06.94-2.06 2.06-.94-2.06-.94-.94-2.06-.94 2.06-2.06.94z\"/><path d=\"M17.41 7.96l-1.37-1.37c-.4-.4-.92-.59-1.43-.59-.52 0-1.04.2-1.43.59L10.3 9.45l-7.72 7.72c-.78.78-.78 2.05 0 2.83L4 21.41c.39.39.9.59 1.41.59.51 0 1.02-.2 1.41-.59l7.78-7.78 2.81-2.81c.8-.78.8-2.07 0-2.86zM5.41 20L4 18.59l7.72-7.72 1.47 1.35L5.41 20z\"/>\n",
              "  </svg>\n",
              "      </button>\n",
              "      \n",
              "  <style>\n",
              "    .colab-df-container {\n",
              "      display:flex;\n",
              "      flex-wrap:wrap;\n",
              "      gap: 12px;\n",
              "    }\n",
              "\n",
              "    .colab-df-convert {\n",
              "      background-color: #E8F0FE;\n",
              "      border: none;\n",
              "      border-radius: 50%;\n",
              "      cursor: pointer;\n",
              "      display: none;\n",
              "      fill: #1967D2;\n",
              "      height: 32px;\n",
              "      padding: 0 0 0 0;\n",
              "      width: 32px;\n",
              "    }\n",
              "\n",
              "    .colab-df-convert:hover {\n",
              "      background-color: #E2EBFA;\n",
              "      box-shadow: 0px 1px 2px rgba(60, 64, 67, 0.3), 0px 1px 3px 1px rgba(60, 64, 67, 0.15);\n",
              "      fill: #174EA6;\n",
              "    }\n",
              "\n",
              "    [theme=dark] .colab-df-convert {\n",
              "      background-color: #3B4455;\n",
              "      fill: #D2E3FC;\n",
              "    }\n",
              "\n",
              "    [theme=dark] .colab-df-convert:hover {\n",
              "      background-color: #434B5C;\n",
              "      box-shadow: 0px 1px 3px 1px rgba(0, 0, 0, 0.15);\n",
              "      filter: drop-shadow(0px 1px 2px rgba(0, 0, 0, 0.3));\n",
              "      fill: #FFFFFF;\n",
              "    }\n",
              "  </style>\n",
              "\n",
              "      <script>\n",
              "        const buttonEl =\n",
              "          document.querySelector('#df-934dc8ef-86c5-485c-95cf-0d9388e9baa4 button.colab-df-convert');\n",
              "        buttonEl.style.display =\n",
              "          google.colab.kernel.accessAllowed ? 'block' : 'none';\n",
              "\n",
              "        async function convertToInteractive(key) {\n",
              "          const element = document.querySelector('#df-934dc8ef-86c5-485c-95cf-0d9388e9baa4');\n",
              "          const dataTable =\n",
              "            await google.colab.kernel.invokeFunction('convertToInteractive',\n",
              "                                                     [key], {});\n",
              "          if (!dataTable) return;\n",
              "\n",
              "          const docLinkHtml = 'Like what you see? Visit the ' +\n",
              "            '<a target=\"_blank\" href=https://colab.research.google.com/notebooks/data_table.ipynb>data table notebook</a>'\n",
              "            + ' to learn more about interactive tables.';\n",
              "          element.innerHTML = '';\n",
              "          dataTable['output_type'] = 'display_data';\n",
              "          await google.colab.output.renderOutput(dataTable, element);\n",
              "          const docLink = document.createElement('div');\n",
              "          docLink.innerHTML = docLinkHtml;\n",
              "          element.appendChild(docLink);\n",
              "        }\n",
              "      </script>\n",
              "    </div>\n",
              "  </div>\n",
              "  "
            ]
          },
          "metadata": {},
          "execution_count": 61
        }
      ]
    },
    {
      "cell_type": "code",
      "metadata": {
        "id": "jFTzaMcALj1J"
      },
      "source": [
        "# a check on our model training\n",
        "assert df_history.shape[0] == 20, \"df should have the training results from 20 epochs\""
      ],
      "execution_count": 63,
      "outputs": []
    },
    {
      "cell_type": "code",
      "metadata": {
        "deletable": false,
        "nbgrader": {
          "cell_type": "code",
          "checksum": "424d241660318a72ecda935be10485d7",
          "grade": false,
          "grade_id": "cell-96dba18873c4cffc",
          "locked": false,
          "schema_version": 3,
          "solution": true,
          "task": false
        },
        "id": "i6NnocuJLj1J",
        "colab": {
          "base_uri": "https://localhost:8080/",
          "height": 486
        },
        "outputId": "7d0f653d-e0f3-4a05-df52-4b7506382453"
      },
      "source": [
        "# use seaborn to plot loss and accuracy metrics\n",
        "\n",
        "fig, axes = plt.subplots(nrows=1, ncols=2, figsize=(18,7.5))\n",
        "\n",
        "sns.lineplot(data=df_history[['loss', 'val_loss']], ax=axes[0])\n",
        "axes[0].set_title(\"Quickdraw Simple NN Training Loss - SGD Optimizer\")\n",
        "axes[0].set_xlabel(\"Epochs\")\n",
        "axes[0].set_ylabel(\"Loss\")\n",
        "axes[0].grid()\n",
        "\n",
        "sns.lineplot(data=df_history[['accuracy', 'val_accuracy']], ax=axes[1])\n",
        "axes[1].set_title(\"Quickdraw Simple NN Training Accuracy - SGD Optimizer\")\n",
        "axes[1].set_xlabel(\"Epochs\")\n",
        "axes[1].set_ylabel(\"Accuracy\")\n",
        "axes[1].grid()"
      ],
      "execution_count": 74,
      "outputs": [
        {
          "output_type": "display_data",
          "data": {
            "text/plain": [
              "<Figure size 1296x540 with 2 Axes>"
            ],
            "image/png": "[encoded data removed]"
          },
          "metadata": {
            "needs_background": "light"
          }
        }
      ]
    },
    {
      "cell_type": "markdown",
      "metadata": {
        "id": "GmjyuTlrLj1K"
      },
      "source": [
        "### Observations \n",
        "\n",
        "Based on the plot of the training and validation loss, answer the following questions. "
      ]
    },
    {
      "cell_type": "markdown",
      "metadata": {
        "id": "NF_mrNmPLj1K"
      },
      "source": [
        "**Was our model able to learn throughout the 20 epochs? Why or why not?**"
      ]
    },
    {
      "cell_type": "markdown",
      "metadata": {
        "deletable": false,
        "nbgrader": {
          "cell_type": "markdown",
          "checksum": "b7713eb32ad3a910a58dfdb9494a9db3",
          "grade": true,
          "grade_id": "cell-820990a8232a858a",
          "locked": false,
          "points": 0,
          "schema_version": 3,
          "solution": true,
          "task": false
        },
        "id": "yL42yLWELj1K"
      },
      "source": [
        "Yes, technically our simple neural network model is learning throughout the 20 epochs by continually updating the parameters (weights and biases) of the model through each epoch."
      ]
    },
    {
      "cell_type": "markdown",
      "metadata": {
        "id": "_xKObFanLj1K"
      },
      "source": [
        "**Is our model overfitting? Why or why not?**"
      ]
    },
    {
      "cell_type": "markdown",
      "metadata": {
        "deletable": false,
        "nbgrader": {
          "cell_type": "markdown",
          "checksum": "1d30c64465cd35081d70578c20ecf96d",
          "grade": true,
          "grade_id": "cell-33868e7ef6e401b5",
          "locked": false,
          "points": 0,
          "schema_version": 3,
          "solution": true,
          "task": false
        },
        "id": "rx7xa4Z1Lj1L"
      },
      "source": [
        "Yes, the overfitting starts around the 10th epoch; the training accuracy and loss continue to improve while the validation loss and accuracy start to suffer or plateau."
      ]
    },
    {
      "cell_type": "markdown",
      "metadata": {
        "id": "FIvb1mftLj1L"
      },
      "source": [
        "**Could the model score benefit from additional epochs? Why or why not?**"
      ]
    },
    {
      "cell_type": "markdown",
      "metadata": {
        "deletable": false,
        "nbgrader": {
          "cell_type": "markdown",
          "checksum": "0fc2208e2c78461578fc7a05224066b8",
          "grade": true,
          "grade_id": "cell-5c883f0a3161e469",
          "locked": false,
          "points": 0,
          "schema_version": 3,
          "solution": true,
          "task": false
        },
        "id": "Ww1hBmfMLj1L"
      },
      "source": [
        "Since it is already overfitting past 10 epochs, not unless we adjust the model itself with different hyperparameters."
      ]
    },
    {
      "cell_type": "markdown",
      "metadata": {
        "id": "MAhBrcE4yOZe"
      },
      "source": [
        "-----\n",
        "## Change Optimizers\n",
        "\n",
        "Let's compare model performance between different optimizers. \n",
        "- Build a new model, identical to the last one but using `adam` for the optimizer. \n",
        "- Train (fit) the model\n",
        "- Save the modeling results to adam_history, so we don't erase the results from the previous model run\n",
        "- Visualize the training results just as we did for the last model. \n"
      ]
    },
    {
      "cell_type": "code",
      "metadata": {
        "deletable": false,
        "id": "jIW_spOZ0cxy",
        "nbgrader": {
          "cell_type": "code",
          "checksum": "6d30d8c6f4521861a77c9ef04dbde904",
          "grade": false,
          "grade_id": "cell-56663c8a5e75b71f",
          "locked": false,
          "schema_version": 3,
          "solution": true,
          "task": false
        }
      },
      "source": [
        "# train the same model as above but use the sgd optimizer if you used adam previously (or use adam if you used sgd previously)\n",
        "\n",
        "# YOUR CODE HERE\n",
        "model_adam = Sequential()\n",
        "model_adam.add(Dense(500, activation='relu', input_dim=input_dim))\n",
        "model_adam.add(Dense(250, activation='relu'))\n",
        "model_adam.add(Dense(100, activation='relu'))\n",
        "model_adam.add(Dense(10, activation='sigmoid'))\n",
        "\n",
        "model_adam.compile(optimizer='adam', loss='sparse_categorical_crossentropy', metrics=['accuracy'])"
      ],
      "execution_count": 80,
      "outputs": []
    },
    {
      "cell_type": "code",
      "metadata": {
        "id": "u9DQypQOLj1L"
      },
      "source": [
        "# a check that we're using the correct optimizer in this model\n",
        "opt_name = model_adam.optimizer.get_config()[\"name\"]\n",
        "assert opt_name == \"Adam\", \"you need to use adam for the optimizer in this model.\""
      ],
      "execution_count": 76,
      "outputs": []
    },
    {
      "cell_type": "code",
      "metadata": {
        "deletable": false,
        "nbgrader": {
          "cell_type": "code",
          "checksum": "1a4c01aa7dbcc832d75b05bffaeaacc8",
          "grade": false,
          "grade_id": "cell-20118d1646215346",
          "locked": false,
          "schema_version": 3,
          "solution": true,
          "task": false
        },
        "id": "wBVj55zVLj1L",
        "colab": {
          "base_uri": "https://localhost:8080/"
        },
        "outputId": "9760b66d-05bf-464f-e7d5-c13dcbff19a0"
      },
      "source": [
        "history_adam = model_adam.fit(X_scaled, y, epochs=epochs, validation_split=0.2)"
      ],
      "execution_count": 81,
      "outputs": [
        {
          "output_type": "stream",
          "name": "stdout",
          "text": [
            "Epoch 1/20\n",
            "2500/2500 [==============================] - 11s 4ms/step - loss: 0.5881 - accuracy: 0.8198 - val_loss: 0.4638 - val_accuracy: 0.8587\n",
            "Epoch 2/20\n",
            "2500/2500 [==============================] - 9s 4ms/step - loss: 0.4171 - accuracy: 0.8723 - val_loss: 0.4341 - val_accuracy: 0.8663\n",
            "Epoch 3/20\n",
            "2500/2500 [==============================] - 8s 3ms/step - loss: 0.3453 - accuracy: 0.8947 - val_loss: 0.4454 - val_accuracy: 0.8703\n",
            "Epoch 4/20\n",
            "2500/2500 [==============================] - 9s 4ms/step - loss: 0.2924 - accuracy: 0.9097 - val_loss: 0.4292 - val_accuracy: 0.8752\n",
            "Epoch 5/20\n",
            "2500/2500 [==============================] - 9s 3ms/step - loss: 0.2500 - accuracy: 0.9221 - val_loss: 0.4475 - val_accuracy: 0.8775\n",
            "Epoch 6/20\n",
            "2500/2500 [==============================] - 10s 4ms/step - loss: 0.2148 - accuracy: 0.9319 - val_loss: 0.4678 - val_accuracy: 0.8765\n",
            "Epoch 7/20\n",
            "2500/2500 [==============================] - 8s 3ms/step - loss: 0.1856 - accuracy: 0.9403 - val_loss: 0.4927 - val_accuracy: 0.8745\n",
            "Epoch 8/20\n",
            "2500/2500 [==============================] - 9s 3ms/step - loss: 0.1610 - accuracy: 0.9476 - val_loss: 0.5266 - val_accuracy: 0.8770\n",
            "Epoch 9/20\n",
            "2500/2500 [==============================] - 9s 4ms/step - loss: 0.1432 - accuracy: 0.9536 - val_loss: 0.5433 - val_accuracy: 0.8813\n",
            "Epoch 10/20\n",
            "2500/2500 [==============================] - 10s 4ms/step - loss: 0.1267 - accuracy: 0.9591 - val_loss: 0.5951 - val_accuracy: 0.8752\n",
            "Epoch 11/20\n",
            "2500/2500 [==============================] - 9s 4ms/step - loss: 0.1181 - accuracy: 0.9617 - val_loss: 0.6180 - val_accuracy: 0.8780\n",
            "Epoch 12/20\n",
            "2500/2500 [==============================] - 14s 5ms/step - loss: 0.1035 - accuracy: 0.9661 - val_loss: 0.6891 - val_accuracy: 0.8779\n",
            "Epoch 13/20\n",
            "2500/2500 [==============================] - 12s 5ms/step - loss: 0.0963 - accuracy: 0.9684 - val_loss: 0.7020 - val_accuracy: 0.8779\n",
            "Epoch 14/20\n",
            "2500/2500 [==============================] - 10s 4ms/step - loss: 0.0903 - accuracy: 0.9706 - val_loss: 0.6890 - val_accuracy: 0.8779\n",
            "Epoch 15/20\n",
            "2500/2500 [==============================] - 9s 4ms/step - loss: 0.0813 - accuracy: 0.9741 - val_loss: 0.7840 - val_accuracy: 0.8733\n",
            "Epoch 16/20\n",
            "2500/2500 [==============================] - 9s 4ms/step - loss: 0.0784 - accuracy: 0.9744 - val_loss: 0.7738 - val_accuracy: 0.8732\n",
            "Epoch 17/20\n",
            "2500/2500 [==============================] - 8s 3ms/step - loss: 0.0723 - accuracy: 0.9766 - val_loss: 0.8239 - val_accuracy: 0.8769\n",
            "Epoch 18/20\n",
            "2500/2500 [==============================] - 9s 4ms/step - loss: 0.0699 - accuracy: 0.9779 - val_loss: 0.9163 - val_accuracy: 0.8698\n",
            "Epoch 19/20\n",
            "2500/2500 [==============================] - 9s 4ms/step - loss: 0.0662 - accuracy: 0.9789 - val_loss: 0.9009 - val_accuracy: 0.8807\n",
            "Epoch 20/20\n",
            "2500/2500 [==============================] - 9s 4ms/step - loss: 0.0622 - accuracy: 0.9806 - val_loss: 0.8601 - val_accuracy: 0.8768\n"
          ]
        }
      ]
    },
    {
      "cell_type": "code",
      "source": [
        "df_adam_history = pd.DataFrame(data=history_adam.history)\n",
        "\n",
        "# use seaborn to plot loss and accuracy metrics\n",
        "\n",
        "fig, axes = plt.subplots(nrows=1, ncols=2, figsize=(18,7.5))\n",
        "\n",
        "sns.lineplot(data=df_adam_history[['loss', 'val_loss']], ax=axes[0])\n",
        "axes[0].set_title(\"Quickdraw Simple NN Training Loss - Adam Optimizer\")\n",
        "axes[0].set_xlabel(\"Epochs\")\n",
        "axes[0].set_ylabel(\"Loss\")\n",
        "axes[0].set_xticks(list(range(1, 21, 1)))\n",
        "axes[0].grid()\n",
        "\n",
        "sns.lineplot(data=df_adam_history[['accuracy', 'val_accuracy']], ax=axes[1])\n",
        "axes[1].set_title(\"Quickdraw Simple NN Training Accuracy - Adam Optimizer\")\n",
        "axes[1].set_xlabel(\"Epochs\")\n",
        "axes[1].set_ylabel(\"Accuracy\")\n",
        "axes[1].set_xticks(list(range(1, 21, 1)))\n",
        "axes[1].grid()"
      ],
      "metadata": {
        "colab": {
          "base_uri": "https://localhost:8080/",
          "height": 486
        },
        "id": "JvCH-ZajouNY",
        "outputId": "c92ce412-6192-4faa-c867-6818f507e03c"
      },
      "execution_count": 82,
      "outputs": [
        {
          "output_type": "display_data",
          "data": {
            "text/plain": [
              "<Figure size 1296x540 with 2 Axes>"
            ],
            "image/png": "[encoded data removed]"
          },
          "metadata": {
            "needs_background": "light"
          }
        }
      ]
    },
    {
      "cell_type": "markdown",
      "metadata": {
        "id": "XECc5OtzLj1M"
      },
      "source": [
        "### Observations \n",
        "\n",
        "This plot should look very different from the previous plot. Based on the plot of the training and validation loss, answer the following questions. "
      ]
    },
    {
      "cell_type": "markdown",
      "metadata": {
        "id": "tK8B5CszLj1M"
      },
      "source": [
        "**Is our model overfitting? Why or why not?**"
      ]
    },
    {
      "cell_type": "markdown",
      "metadata": {
        "deletable": false,
        "nbgrader": {
          "cell_type": "markdown",
          "checksum": "fa4141497af675d227aa510feb8db732",
          "grade": true,
          "grade_id": "cell-7e524ccac970c33e",
          "locked": false,
          "points": 0,
          "schema_version": 3,
          "solution": true,
          "task": false
        },
        "id": "Fn6C8NWTLj1M"
      },
      "source": [
        "Yes. Due to the Adam optimizer's more efficient method, the model overfits much more quickly. Validation acc and loss start to plateau and suffer after just 3 epochs. "
      ]
    },
    {
      "cell_type": "markdown",
      "metadata": {
        "id": "ygXQYH8ILj1M"
      },
      "source": [
        "**Could our model's performance improve by training on more than 20 epochs? Why or why not?**"
      ]
    },
    {
      "cell_type": "markdown",
      "metadata": {
        "deletable": false,
        "nbgrader": {
          "cell_type": "markdown",
          "checksum": "ae03b8b897eb5d052590574ab3bba839",
          "grade": true,
          "grade_id": "cell-456c40e885652955",
          "locked": false,
          "points": 0,
          "schema_version": 3,
          "solution": true,
          "task": false
        },
        "id": "Sa5SRkB1Lj1M"
      },
      "source": [
        "No, the model quickly overfits starting after the 3rd epoch."
      ]
    },
    {
      "cell_type": "markdown",
      "metadata": {
        "id": "bNxtLggeLj1M"
      },
      "source": [
        "**Assuming that you want to stick to this model architecture, what can you do to avoid overfitting?**"
      ]
    },
    {
      "cell_type": "markdown",
      "metadata": {
        "deletable": false,
        "nbgrader": {
          "cell_type": "markdown",
          "checksum": "9f5a9393314231d3ce253363c1df1223",
          "grade": true,
          "grade_id": "cell-74d7def19c66702b",
          "locked": false,
          "points": 0,
          "schema_version": 3,
          "solution": true,
          "task": false
        },
        "id": "tfztMm3rLj1M"
      },
      "source": [
        "Create a callback object to make the model stop training after overfitting is detected."
      ]
    },
    {
      "cell_type": "markdown",
      "metadata": {
        "id": "ViaTP68cLj1M"
      },
      "source": [
        "------\n",
        "# Conclusion \n",
        "\n",
        "You have observed by comparing the two models that are identical except for the optimizer, that the choice of the optimizer can considerably influence the performance of a neural network. \n",
        "\n",
        "You might not know \n",
        "\n",
        "- why changing the optimizer from Stochastic Gradient Descent over to Adam made a difference.\n",
        "- how Gradient Descent works \n",
        "- or that Adam is known as Adaptive Gradient Descent (i.e., is it a different version of ordinary Gradient Descent). \n",
        "\n",
        "But that's ok - tomorrow's lesson will be a deep dive into Gradient Descent. You'll learn the theory of Gradient Descent, we'll code up Gradient Descent from scratch, and we'll talk about how Adam is different from ordinary Gradient Descent. "
      ]
    },
    {
      "cell_type": "markdown",
      "metadata": {
        "id": "8v_TuVH5Lj1N"
      },
      "source": [
        "-----\n",
        "# Preparation for Tomorrow \n",
        "\n",
        "In preparation for tomorrow, you might need to watch a few videos. I say it might because you may or may not already be comfortable with multi-variate calculus. \n",
        "\n",
        "### Theory of Calculus \n",
        "The theory of Gradient Descent rests on [**the derivative from Calculus**](https://www.youtube.com/watch?v=WUvTyaaNkzM). If you've never taken a Calculus course before, or are a bit rusty, definitely watch this video in preparation for tomorrow's lesson. The takeaway here is to understand the derivative conceptually; you won't be asked to calculate any derivatives by hand. \n",
        "\n",
        "### The Gradient - a Multi-Dimensional Derivative\n",
        "Once you've watched the previous video, you will be ready to understand how to conceptualize a derivative in an N-dimensional space (where N is any number ranging from 2, 3, 4, ..., all the way to a very large number of dimensions N ). [**This video visually explains the multi-dimensional derivative called the Gradient visually**](https://www.youtube.com/watch?v=GkB4vW16QHI) - and that's the takeaway. The point of this video is to help you understand the Gradient visually using 3D surfaces. You should also know that the Gradient is made up of partial derivatives, more on this tomorrow. \n",
        "\n",
        "### Contour Maps \n",
        "It is very common to visual 3D surfaces as 2D contour maps - and we'll be making a lot of use of contour maps to understand Gradient Descent. Watch this video to [**understand the relationship between 3D surfaces and 2D contour maps.**](https://www.youtube.com/watch?v=acdX4YamDtU)\n",
        "\n",
        "### The Calculus of Backpropagation \n",
        "\n",
        "Unlike standard Sklearn ML models, neural networks use Gradient Descent and something called Backpropagatin to learn from the data. [**In order to understand how backpropagation works, you need to understand the Chain Rule in Calculus**](https://www.youtube.com/watch?v=acdX4YamDtU). The takeaway here is to understand how a partial derivative can be decomposed into a product of multiple derivatives. "
      ]
    },
    {
      "cell_type": "markdown",
      "metadata": {
        "id": "XCjBp0vTLj1N"
      },
      "source": [
        "------\n",
        "# Stretch Goals\n",
        "\n",
        "### This Section is Optional!\n",
        "\n",
        "Only after you've completed the above work and watched the recommended videos are you then encouraged to experiment with building a few more models and analyze their results. \n",
        "\n",
        "Here are some suggestions to help you get started. \n",
        "\n",
        "- Train the same model using the Sigmoid and Relu activation functions and note the difference in their learning outcomes. [**Keras docs on activation functions**](https://keras.io/api/layers/activations/). We'll cover the Relu activation function in Sprint 2 Module 3.\n",
        "- Train the same model using normalized and non-normalized data and note the difference in their learning outcomes. \n",
        "\n",
        "\n",
        "The objective here is to get more practice with the Keras API (i.e., building models) and run a couple of experiments to help set you up for future lessons. In order words, we'll be discussing different activation functions and the effect of normalized data on model training."
      ]
    }
  ]
}